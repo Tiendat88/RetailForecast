{
  "cells": [
    {
      "cell_type": "markdown",
      "id": "6918e18a-c248-4929-b552-7aee2057c0eb",
      "metadata": {
        "id": "6918e18a-c248-4929-b552-7aee2057c0eb"
      },
      "source": [
        "It's simple to buy any product with a click and have it delivered to your door. Online shopping has been rapidly evolving over the last few years, making our lives easier. But behind the scenes, e-commerce companies face a complex challenge that needs to be addressed.\n",
        "\n",
        "Uncertainty plays a big role in how the supply chains plan and organize their operations to ensure that the products are delivered on time. These uncertainties can lead to challenges such as stockouts, delayed deliveries, and increased operational costs.\n",
        "\n",
        "You work for the Sales & Operations Planning (S&OP) team at a multinational e-commerce company. They need your help to assist in planning for the upcoming end-of-the-year sales. They want to use your insights to plan for promotional opportunities and manage their inventory. This effort is to ensure they have the right products in stock when needed and ensure their customers are satisfied with the prompt delivery to their doorstep.\n",
        "\n",
        "\n",
        "## The Data\n",
        "\n",
        "You are provided with a sales dataset to use. A summary and preview are provided below.\n",
        "\n",
        "# Online Retail.csv\n",
        "\n",
        "| Column     | Description              |\n",
        "|------------|--------------------------|\n",
        "| `'InvoiceNo'` | A 6-digit number uniquely assigned to each transaction |\n",
        "| `'StockCode'` | A 5-digit number uniquely assigned to each distinct product |\n",
        "| `'Description'` | The product name |\n",
        "| `'Quantity'` | The quantity of each product (item) per transaction |\n",
        "| `'UnitPrice'` | Product price per unit |\n",
        "| `'CustomerID'` | A 5-digit number uniquely assigned to each customer |\n",
        "| `'Country'` | The name of the country where each customer resides |\n",
        "| `'InvoiceDate'` | The day and time when each transaction was generated `\"MM/DD/YYYY\"` |\n",
        "| `'Year'` | The year when each transaction was generated |\n",
        "| `'Month'` | The month when each transaction was generated |\n",
        "| `'Week'` | The week when each transaction was generated (`1`-`52`) |\n",
        "| `'Day'` | The day of the month when each transaction was generated (`1`-`31`) |\n",
        "| `'DayOfWeek'` | The day of the weeke when each transaction was generated <br>(`0` = Monday, `6` = Sunday) |"
      ]
    },
    {
      "cell_type": "markdown",
      "id": "YEmlg8nP-n6b",
      "metadata": {
        "id": "YEmlg8nP-n6b"
      },
      "source": [
        "**Analyze the Online Retail.csv dataset and build a forecasting model to predict 'Quantity' of products sold.**\n",
        "\n",
        "1. Split the data into two sets based on the splitting date, \"2011-09-25\". All data up to and including this date should be in the training set, while data after this date should be in the test set. Return a pandas DataFrame, pd_daily_train_data, containing, at least, the columns \"Country\", \"StockCode\", \"InvoiceDate\", \"Quantity\".\n",
        "\n",
        "2. Using your test set, calculate the Mean Absolute Error (MAE) for your forecast model for the 'Quantity' sold? Return a double (float) named mae.\n",
        "\n",
        "3. How many units are expected to be sold during the week 39 of 2011? Store as an integer variable called quantity_sold_w39."
      ]
    },
    {
      "cell_type": "markdown",
      "id": "88cf4f87",
      "metadata": {},
      "source": [
        "# Tiền xử lý"
      ]
    },
    {
      "cell_type": "code",
      "execution_count": 93,
      "id": "4f4346f8",
      "metadata": {},
      "outputs": [],
      "source": [
        "from pyspark.sql import SparkSession\n",
        "from pyspark.sql.functions import col, to_date, sum, count, lit\n",
        "import pandas as pd"
      ]
    },
    {
      "cell_type": "code",
      "execution_count": 94,
      "id": "c01130ad",
      "metadata": {},
      "outputs": [],
      "source": [
        "spark = SparkSession.builder.appName(\"OnlineRetailAnalysis\").getOrCreate()"
      ]
    },
    {
      "cell_type": "code",
      "execution_count": 95,
      "id": "08352fa2",
      "metadata": {},
      "outputs": [
        {
          "name": "stderr",
          "output_type": "stream",
          "text": [
            "                                                                                \r"
          ]
        }
      ],
      "source": [
        "file_path = \"/Users/tiendat02/Documents/big-data/Final HW-Demand Forecasting/OnlineRetail.csv\"\n",
        "df = spark.read.csv(file_path, header=True, inferSchema=True)"
      ]
    },
    {
      "cell_type": "code",
      "execution_count": 96,
      "id": "8a1e980b",
      "metadata": {},
      "outputs": [
        {
          "name": "stdout",
          "output_type": "stream",
          "text": [
            "541909\n",
            "8\n"
          ]
        }
      ],
      "source": [
        "print(df.count())\n",
        "print(len(df.columns))"
      ]
    },
    {
      "cell_type": "code",
      "execution_count": 97,
      "id": "4a3596c4",
      "metadata": {},
      "outputs": [
        {
          "name": "stdout",
          "output_type": "stream",
          "text": [
            "root\n",
            " |-- InvoiceNo: string (nullable = true)\n",
            " |-- StockCode: string (nullable = true)\n",
            " |-- Description: string (nullable = true)\n",
            " |-- Quantity: integer (nullable = true)\n",
            " |-- InvoiceDate: string (nullable = true)\n",
            " |-- UnitPrice: double (nullable = true)\n",
            " |-- CustomerID: integer (nullable = true)\n",
            " |-- Country: string (nullable = true)\n",
            "\n"
          ]
        }
      ],
      "source": [
        "df.printSchema()"
      ]
    },
    {
      "cell_type": "code",
      "execution_count": 98,
      "id": "a6b4a3a3",
      "metadata": {},
      "outputs": [
        {
          "name": "stdout",
          "output_type": "stream",
          "text": [
            "+---------+---------+--------------------+--------+--------------+---------+----------+--------------+\n",
            "|InvoiceNo|StockCode|         Description|Quantity|   InvoiceDate|UnitPrice|CustomerID|       Country|\n",
            "+---------+---------+--------------------+--------+--------------+---------+----------+--------------+\n",
            "|   536365|   85123A|WHITE HANGING HEA...|       6|12/1/2010 8:26|     2.55|     17850|United Kingdom|\n",
            "|   536365|    71053| WHITE METAL LANTERN|       6|12/1/2010 8:26|     3.39|     17850|United Kingdom|\n",
            "|   536365|   84406B|CREAM CUPID HEART...|       8|12/1/2010 8:26|     2.75|     17850|United Kingdom|\n",
            "|   536365|   84029G|KNITTED UNION FLA...|       6|12/1/2010 8:26|     3.39|     17850|United Kingdom|\n",
            "|   536365|   84029E|RED WOOLLY HOTTIE...|       6|12/1/2010 8:26|     3.39|     17850|United Kingdom|\n",
            "|   536365|    22752|SET 7 BABUSHKA NE...|       2|12/1/2010 8:26|     7.65|     17850|United Kingdom|\n",
            "|   536365|    21730|GLASS STAR FROSTE...|       6|12/1/2010 8:26|     4.25|     17850|United Kingdom|\n",
            "|   536366|    22633|HAND WARMER UNION...|       6|12/1/2010 8:28|     1.85|     17850|United Kingdom|\n",
            "|   536366|    22632|HAND WARMER RED P...|       6|12/1/2010 8:28|     1.85|     17850|United Kingdom|\n",
            "|   536367|    84879|ASSORTED COLOUR B...|      32|12/1/2010 8:34|     1.69|     13047|United Kingdom|\n",
            "+---------+---------+--------------------+--------+--------------+---------+----------+--------------+\n",
            "only showing top 10 rows\n",
            "\n"
          ]
        }
      ],
      "source": [
        "df.show(10)"
      ]
    },
    {
      "cell_type": "code",
      "execution_count": 99,
      "id": "4825e19f",
      "metadata": {},
      "outputs": [
        {
          "name": "stdout",
          "output_type": "stream",
          "text": [
            "+---------+---------+-----------+--------+-----------+---------+----------+-------+\n",
            "|InvoiceNo|StockCode|Description|Quantity|InvoiceDate|UnitPrice|CustomerID|Country|\n",
            "+---------+---------+-----------+--------+-----------+---------+----------+-------+\n",
            "|        0|        0|       1454|       0|          0|        0|    135080|      0|\n",
            "+---------+---------+-----------+--------+-----------+---------+----------+-------+\n",
            "\n"
          ]
        }
      ],
      "source": [
        "df.select([sum(col(c).isNull().cast(\"int\")).alias(c) for c in df.columns]).show()"
      ]
    },
    {
      "cell_type": "markdown",
      "id": "b65f7c08",
      "metadata": {},
      "source": [
        "Có khá nhiều ID khách hàng bị thiếu => Xoá "
      ]
    },
    {
      "cell_type": "code",
      "execution_count": 100,
      "id": "36506597",
      "metadata": {},
      "outputs": [],
      "source": [
        "df = df.dropna(subset=[\"Description\", \"CustomerID\"])"
      ]
    },
    {
      "cell_type": "code",
      "execution_count": 101,
      "id": "ed5f5ff6",
      "metadata": {},
      "outputs": [
        {
          "name": "stdout",
          "output_type": "stream",
          "text": [
            "+---------+---------+-----------+--------+-----------+---------+----------+-------+\n",
            "|InvoiceNo|StockCode|Description|Quantity|InvoiceDate|UnitPrice|CustomerID|Country|\n",
            "+---------+---------+-----------+--------+-----------+---------+----------+-------+\n",
            "|        0|        0|          0|       0|          0|        0|         0|      0|\n",
            "+---------+---------+-----------+--------+-----------+---------+----------+-------+\n",
            "\n"
          ]
        }
      ],
      "source": [
        "df.select([sum(col(c).isNull().cast(\"int\")).alias(c) for c in df.columns]).show()"
      ]
    },
    {
      "cell_type": "code",
      "execution_count": 102,
      "id": "420aca2b",
      "metadata": {},
      "outputs": [
        {
          "name": "stderr",
          "output_type": "stream",
          "text": [
            "[Stage 32:=======>                                                  (1 + 7) / 8]\r"
          ]
        },
        {
          "name": "stdout",
          "output_type": "stream",
          "text": [
            "+---------+---------+--------------------+--------+----------------+---------+----------+--------------+-----+\n",
            "|InvoiceNo|StockCode|         Description|Quantity|     InvoiceDate|UnitPrice|CustomerID|       Country|count|\n",
            "+---------+---------+--------------------+--------+----------------+---------+----------+--------------+-----+\n",
            "|   537051|    85175|CACTI T-LIGHT CAN...|      32| 12/5/2010 11:12|     0.42|     15708|United Kingdom|    2|\n",
            "|   541985|    22588|CARD HOLDER GINGH...|       2| 1/24/2011 15:52|     2.55|     15052|United Kingdom|    2|\n",
            "|   542192|    84378|SET OF 3 HEART CO...|       3| 1/26/2011 11:27|     1.25|     14049|United Kingdom|    2|\n",
            "|   537208|   90082D|DIAMANTE BOW BROO...|       1| 12/5/2010 15:12|     6.35|     15889|United Kingdom|    2|\n",
            "|   538368|    20973|12 PENCIL SMALL T...|       1|12/12/2010 10:57|     0.65|     15503|United Kingdom|    2|\n",
            "|   538371|    21216|SET 3 RETROSPOT T...|       1|12/12/2010 11:07|     4.95|     15570|United Kingdom|    2|\n",
            "|   538510|   48173C|DOORMAT BLACK FLOCK |       1|12/12/2010 13:47|     7.95|     18004|United Kingdom|    2|\n",
            "|   537193|    22862|LOVE HEART NAPKIN...|       4| 12/5/2010 13:49|     4.25|     15023|United Kingdom|    2|\n",
            "|   541414|    21034|REX CASH+CARRY JU...|       1| 1/17/2011 16:14|     0.95|     18212|United Kingdom|    2|\n",
            "|   542231|    22630|DOLLY GIRL LUNCH BOX|       1| 1/26/2011 13:40|     1.95|     16714|United Kingdom|    2|\n",
            "|   536412|    21708|FOLDING UMBRELLA ...|       1| 12/1/2010 11:49|     4.95|     17920|United Kingdom|    2|\n",
            "|   537262|    22158|3 HEARTS HANGING ...|       8| 12/6/2010 11:26|     2.95|     15039|United Kingdom|    2|\n",
            "|   538313|    22727|ALARM CLOCK BAKEL...|       1|12/10/2010 13:50|     3.75|     15514|United Kingdom|    2|\n",
            "|   540953|    21212|PACK OF 72 RETROS...|       1| 1/12/2011 13:16|     0.55|     14587|United Kingdom|    2|\n",
            "|   536637|    22867|HAND WARMER BIRD ...|       1| 12/2/2010 11:35|      2.1|     18041|United Kingdom|    2|\n",
            "|   536874|    22914|BLUE COAT RACK PA...|       1| 12/3/2010 11:35|     4.95|     16891|United Kingdom|    2|\n",
            "|   537421|    22568|FELTCRAFT CUSHION...|       1| 12/6/2010 15:25|     3.75|     17218|United Kingdom|    2|\n",
            "|   537772|    22371|AIRLINE BAG VINTA...|       1| 12/8/2010 12:35|     4.25|     18043|United Kingdom|    2|\n",
            "|   538201|    22652|   TRAVEL SEWING KIT|       1|12/10/2010 11:12|     1.65|     15723|United Kingdom|    2|\n",
            "|   539317|    22470|HEART OF WICKER L...|       2|12/16/2010 19:04|     2.95|     17392|United Kingdom|    2|\n",
            "+---------+---------+--------------------+--------+----------------+---------+----------+--------------+-----+\n",
            "only showing top 20 rows\n",
            "\n"
          ]
        },
        {
          "name": "stderr",
          "output_type": "stream",
          "text": [
            "                                                                                \r"
          ]
        }
      ],
      "source": [
        "df_duplicates = df.groupBy(df.columns).count().filter(\"count > 1\")\n",
        "df_duplicates.show()"
      ]
    },
    {
      "cell_type": "markdown",
      "id": "7aa4a64c",
      "metadata": {},
      "source": [
        "Không có hàng nào trùng lặp vô lý => giữ nguyên\n"
      ]
    },
    {
      "cell_type": "code",
      "execution_count": 103,
      "id": "36d094dd",
      "metadata": {},
      "outputs": [
        {
          "name": "stdout",
          "output_type": "stream",
          "text": [
            "+--------------+\n",
            "|InvoiceDate   |\n",
            "+--------------+\n",
            "|12/1/2010 8:26|\n",
            "|12/1/2010 8:26|\n",
            "|12/1/2010 8:26|\n",
            "|12/1/2010 8:26|\n",
            "|12/1/2010 8:26|\n",
            "+--------------+\n",
            "only showing top 5 rows\n",
            "\n"
          ]
        }
      ],
      "source": [
        "df.select(\"InvoiceDate\").show(5, truncate=False)"
      ]
    },
    {
      "cell_type": "code",
      "execution_count": 104,
      "id": "2a95bdbb",
      "metadata": {},
      "outputs": [
        {
          "name": "stdout",
          "output_type": "stream",
          "text": [
            "root\n",
            " |-- InvoiceNo: string (nullable = true)\n",
            " |-- StockCode: string (nullable = true)\n",
            " |-- Description: string (nullable = true)\n",
            " |-- Quantity: integer (nullable = true)\n",
            " |-- InvoiceDate: string (nullable = true)\n",
            " |-- UnitPrice: double (nullable = true)\n",
            " |-- CustomerID: integer (nullable = true)\n",
            " |-- Country: string (nullable = true)\n",
            "\n"
          ]
        }
      ],
      "source": [
        "df.printSchema()"
      ]
    },
    {
      "cell_type": "markdown",
      "id": "c8b824c8",
      "metadata": {},
      "source": [
        "Cột InvoiceDate đang có kiểu dữ liệu là \"string\" => đổi sang dạng \"date\""
      ]
    },
    {
      "cell_type": "code",
      "execution_count": 105,
      "id": "bc444ab6",
      "metadata": {},
      "outputs": [],
      "source": [
        "df = df.withColumn(\"InvoiceDate\", to_date(\"InvoiceDate\", \"M/d/yyyy H:mm\"))"
      ]
    },
    {
      "cell_type": "code",
      "execution_count": 106,
      "id": "3b31125f",
      "metadata": {},
      "outputs": [
        {
          "name": "stdout",
          "output_type": "stream",
          "text": [
            "root\n",
            " |-- InvoiceNo: string (nullable = true)\n",
            " |-- StockCode: string (nullable = true)\n",
            " |-- Description: string (nullable = true)\n",
            " |-- Quantity: integer (nullable = true)\n",
            " |-- InvoiceDate: date (nullable = true)\n",
            " |-- UnitPrice: double (nullable = true)\n",
            " |-- CustomerID: integer (nullable = true)\n",
            " |-- Country: string (nullable = true)\n",
            "\n",
            "+---------+---------+--------------------+--------+-----------+---------+----------+--------------+\n",
            "|InvoiceNo|StockCode|         Description|Quantity|InvoiceDate|UnitPrice|CustomerID|       Country|\n",
            "+---------+---------+--------------------+--------+-----------+---------+----------+--------------+\n",
            "|   536365|   85123A|WHITE HANGING HEA...|       6| 2010-12-01|     2.55|     17850|United Kingdom|\n",
            "|   536365|    71053| WHITE METAL LANTERN|       6| 2010-12-01|     3.39|     17850|United Kingdom|\n",
            "|   536365|   84406B|CREAM CUPID HEART...|       8| 2010-12-01|     2.75|     17850|United Kingdom|\n",
            "|   536365|   84029G|KNITTED UNION FLA...|       6| 2010-12-01|     3.39|     17850|United Kingdom|\n",
            "|   536365|   84029E|RED WOOLLY HOTTIE...|       6| 2010-12-01|     3.39|     17850|United Kingdom|\n",
            "|   536365|    22752|SET 7 BABUSHKA NE...|       2| 2010-12-01|     7.65|     17850|United Kingdom|\n",
            "|   536365|    21730|GLASS STAR FROSTE...|       6| 2010-12-01|     4.25|     17850|United Kingdom|\n",
            "|   536366|    22633|HAND WARMER UNION...|       6| 2010-12-01|     1.85|     17850|United Kingdom|\n",
            "|   536366|    22632|HAND WARMER RED P...|       6| 2010-12-01|     1.85|     17850|United Kingdom|\n",
            "|   536367|    84879|ASSORTED COLOUR B...|      32| 2010-12-01|     1.69|     13047|United Kingdom|\n",
            "|   536367|    22745|POPPY'S PLAYHOUSE...|       6| 2010-12-01|      2.1|     13047|United Kingdom|\n",
            "|   536367|    22748|POPPY'S PLAYHOUSE...|       6| 2010-12-01|      2.1|     13047|United Kingdom|\n",
            "|   536367|    22749|FELTCRAFT PRINCES...|       8| 2010-12-01|     3.75|     13047|United Kingdom|\n",
            "|   536367|    22310|IVORY KNITTED MUG...|       6| 2010-12-01|     1.65|     13047|United Kingdom|\n",
            "|   536367|    84969|BOX OF 6 ASSORTED...|       6| 2010-12-01|     4.25|     13047|United Kingdom|\n",
            "|   536367|    22623|BOX OF VINTAGE JI...|       3| 2010-12-01|     4.95|     13047|United Kingdom|\n",
            "|   536367|    22622|BOX OF VINTAGE AL...|       2| 2010-12-01|     9.95|     13047|United Kingdom|\n",
            "|   536367|    21754|HOME BUILDING BLO...|       3| 2010-12-01|     5.95|     13047|United Kingdom|\n",
            "|   536367|    21755|LOVE BUILDING BLO...|       3| 2010-12-01|     5.95|     13047|United Kingdom|\n",
            "|   536367|    21777|RECIPE BOX WITH M...|       4| 2010-12-01|     7.95|     13047|United Kingdom|\n",
            "+---------+---------+--------------------+--------+-----------+---------+----------+--------------+\n",
            "only showing top 20 rows\n",
            "\n"
          ]
        }
      ],
      "source": [
        "df.printSchema()\n",
        "df.show()"
      ]
    },
    {
      "cell_type": "markdown",
      "id": "41e5a3fa",
      "metadata": {},
      "source": [
        "1, Split the data into two sets based on the splitting date, \"2011-09-25\". All data up to and including this date should be in the training set, while data after this date should be in the test set. Return a pandas DataFrame, pd_daily_train_data, containing, at least, the columns \"Country\", \"StockCode\", \"InvoiceDate\", \"Quantity\"."
      ]
    },
    {
      "cell_type": "code",
      "execution_count": 107,
      "id": "5bc8db78",
      "metadata": {},
      "outputs": [],
      "source": [
        "split_date = \"2011-09-25\""
      ]
    },
    {
      "cell_type": "code",
      "execution_count": 108,
      "id": "8bfcf953",
      "metadata": {},
      "outputs": [],
      "source": [
        "train_df = df.filter(col(\"InvoiceDate\") <= split_date)\n",
        "test_df = df.filter(col(\"InvoiceDate\") > split_date)"
      ]
    },
    {
      "cell_type": "code",
      "execution_count": 109,
      "id": "f4a026ce",
      "metadata": {},
      "outputs": [],
      "source": [
        "train_df = train_df.select(\"Country\", \"StockCode\", \"InvoiceDate\", \"Quantity\")"
      ]
    },
    {
      "cell_type": "code",
      "execution_count": 110,
      "id": "d2257474",
      "metadata": {},
      "outputs": [
        {
          "name": "stderr",
          "output_type": "stream",
          "text": [
            "                                                                                \r"
          ]
        }
      ],
      "source": [
        "pd_daily_train_data = train_df.toPandas()"
      ]
    },
    {
      "cell_type": "code",
      "execution_count": 111,
      "id": "fa8e878c",
      "metadata": {},
      "outputs": [],
      "source": [
        "test_df = test_df.select(\"Country\", \"StockCode\", \"InvoiceDate\", \"Quantity\")\n",
        "pd_daily_test_data = train_df.toPandas()"
      ]
    },
    {
      "cell_type": "code",
      "execution_count": 112,
      "id": "c41e5442",
      "metadata": {},
      "outputs": [
        {
          "data": {
            "text/html": [
              "<div>\n",
              "<style scoped>\n",
              "    .dataframe tbody tr th:only-of-type {\n",
              "        vertical-align: middle;\n",
              "    }\n",
              "\n",
              "    .dataframe tbody tr th {\n",
              "        vertical-align: top;\n",
              "    }\n",
              "\n",
              "    .dataframe thead th {\n",
              "        text-align: right;\n",
              "    }\n",
              "</style>\n",
              "<table border=\"1\" class=\"dataframe\">\n",
              "  <thead>\n",
              "    <tr style=\"text-align: right;\">\n",
              "      <th></th>\n",
              "      <th>Country</th>\n",
              "      <th>StockCode</th>\n",
              "      <th>InvoiceDate</th>\n",
              "      <th>Quantity</th>\n",
              "    </tr>\n",
              "  </thead>\n",
              "  <tbody>\n",
              "    <tr>\n",
              "      <th>0</th>\n",
              "      <td>United Kingdom</td>\n",
              "      <td>85123A</td>\n",
              "      <td>2010-12-01</td>\n",
              "      <td>6</td>\n",
              "    </tr>\n",
              "    <tr>\n",
              "      <th>1</th>\n",
              "      <td>United Kingdom</td>\n",
              "      <td>71053</td>\n",
              "      <td>2010-12-01</td>\n",
              "      <td>6</td>\n",
              "    </tr>\n",
              "    <tr>\n",
              "      <th>2</th>\n",
              "      <td>United Kingdom</td>\n",
              "      <td>84406B</td>\n",
              "      <td>2010-12-01</td>\n",
              "      <td>8</td>\n",
              "    </tr>\n",
              "    <tr>\n",
              "      <th>3</th>\n",
              "      <td>United Kingdom</td>\n",
              "      <td>84029G</td>\n",
              "      <td>2010-12-01</td>\n",
              "      <td>6</td>\n",
              "    </tr>\n",
              "    <tr>\n",
              "      <th>4</th>\n",
              "      <td>United Kingdom</td>\n",
              "      <td>84029E</td>\n",
              "      <td>2010-12-01</td>\n",
              "      <td>6</td>\n",
              "    </tr>\n",
              "  </tbody>\n",
              "</table>\n",
              "</div>"
            ],
            "text/plain": [
              "          Country StockCode InvoiceDate  Quantity\n",
              "0  United Kingdom    85123A  2010-12-01         6\n",
              "1  United Kingdom     71053  2010-12-01         6\n",
              "2  United Kingdom    84406B  2010-12-01         8\n",
              "3  United Kingdom    84029G  2010-12-01         6\n",
              "4  United Kingdom    84029E  2010-12-01         6"
            ]
          },
          "execution_count": 112,
          "metadata": {},
          "output_type": "execute_result"
        }
      ],
      "source": [
        "pd_daily_train_data.head()"
      ]
    },
    {
      "cell_type": "markdown",
      "id": "35460415",
      "metadata": {},
      "source": [
        "2, Using your test set, calculate the Mean Absolute Error (MAE) for your forecast model for the 'Quantity' sold? Return a double (float) named mae."
      ]
    },
    {
      "cell_type": "code",
      "execution_count": 113,
      "id": "a4702c27",
      "metadata": {},
      "outputs": [],
      "source": [
        "# loại bỏ các dòng có giá trị \"Quantity\" bị âm\n",
        "pd_daily_train_data = pd_daily_train_data[pd_daily_train_data['Quantity'] >= 0]\n",
        "pd_daily_test_data = pd_daily_test_data[pd_daily_test_data['Quantity'] >= 0]"
      ]
    },
    {
      "cell_type": "code",
      "execution_count": 114,
      "id": "f50e2d85",
      "metadata": {},
      "outputs": [
        {
          "name": "stdout",
          "output_type": "stream",
          "text": [
            "<class 'pandas.core.frame.DataFrame'>\n",
            "Index: 257815 entries, 0 to 263981\n",
            "Data columns (total 4 columns):\n",
            " #   Column       Non-Null Count   Dtype \n",
            "---  ------       --------------   ----- \n",
            " 0   Country      257815 non-null  object\n",
            " 1   StockCode    257815 non-null  object\n",
            " 2   InvoiceDate  257815 non-null  object\n",
            " 3   Quantity     257815 non-null  int32 \n",
            "dtypes: int32(1), object(3)\n",
            "memory usage: 8.9+ MB\n"
          ]
        }
      ],
      "source": [
        "pd_daily_train_data.info()"
      ]
    },
    {
      "cell_type": "code",
      "execution_count": 115,
      "id": "fd7c028d",
      "metadata": {},
      "outputs": [],
      "source": [
        "from sklearn.preprocessing import LabelEncoder\n",
        "# Mã hóa cột 'Country'\n",
        "label_encoder = LabelEncoder()\n",
        "pd_daily_train_data['Country_encoded'] = label_encoder.fit_transform(pd_daily_train_data['Country'])\n",
        "pd_daily_test_data['Country_encoded'] = label_encoder.transform(pd_daily_test_data['Country'])"
      ]
    },
    {
      "cell_type": "code",
      "execution_count": 116,
      "id": "4466a989",
      "metadata": {},
      "outputs": [],
      "source": [
        "# Mã hóa cột 'StockCode'\n",
        "stock_code_encoder = LabelEncoder()\n",
        "pd_daily_train_data['StockCode_encoded'] = stock_code_encoder.fit_transform(pd_daily_train_data['StockCode'])\n",
        "pd_daily_test_data['StockCode_encoded'] = stock_code_encoder.transform(pd_daily_test_data['StockCode'])"
      ]
    },
    {
      "cell_type": "code",
      "execution_count": 117,
      "id": "e6b16395",
      "metadata": {},
      "outputs": [],
      "source": [
        "# Chuyển đổi cột 'InvoiceDate' sang định dạng datetime\n",
        "pd_daily_train_data['InvoiceDate'] = pd.to_datetime(pd_daily_train_data['InvoiceDate'], format='%m/%d/%Y')\n",
        "pd_daily_test_data['InvoiceDate'] = pd.to_datetime(pd_daily_test_data['InvoiceDate'], format='%m/%d/%Y')"
      ]
    },
    {
      "cell_type": "code",
      "execution_count": 118,
      "id": "d3d462c5",
      "metadata": {},
      "outputs": [],
      "source": [
        "X_train = pd_daily_train_data[['Country_encoded', 'StockCode_encoded']]\n",
        "y_train = pd_daily_train_data['Quantity']\n",
        "\n",
        "X_test = pd_daily_test_data[['Country_encoded', 'StockCode_encoded']]\n",
        "y_test = pd_daily_test_data['Quantity']"
      ]
    },
    {
      "cell_type": "code",
      "execution_count": 119,
      "id": "11a77a5f",
      "metadata": {},
      "outputs": [],
      "source": [
        "from sklearn.linear_model import LinearRegression\n",
        "from sklearn.metrics import mean_absolute_error"
      ]
    },
    {
      "cell_type": "code",
      "execution_count": 120,
      "id": "228564ee",
      "metadata": {},
      "outputs": [],
      "source": [
        "model = LinearRegression()"
      ]
    },
    {
      "cell_type": "code",
      "execution_count": 121,
      "id": "fd3ce31a",
      "metadata": {},
      "outputs": [
        {
          "data": {
            "text/html": [
              "<style>#sk-container-id-3 {\n",
              "  /* Definition of color scheme common for light and dark mode */\n",
              "  --sklearn-color-text: black;\n",
              "  --sklearn-color-line: gray;\n",
              "  /* Definition of color scheme for unfitted estimators */\n",
              "  --sklearn-color-unfitted-level-0: #fff5e6;\n",
              "  --sklearn-color-unfitted-level-1: #f6e4d2;\n",
              "  --sklearn-color-unfitted-level-2: #ffe0b3;\n",
              "  --sklearn-color-unfitted-level-3: chocolate;\n",
              "  /* Definition of color scheme for fitted estimators */\n",
              "  --sklearn-color-fitted-level-0: #f0f8ff;\n",
              "  --sklearn-color-fitted-level-1: #d4ebff;\n",
              "  --sklearn-color-fitted-level-2: #b3dbfd;\n",
              "  --sklearn-color-fitted-level-3: cornflowerblue;\n",
              "\n",
              "  /* Specific color for light theme */\n",
              "  --sklearn-color-text-on-default-background: var(--sg-text-color, var(--theme-code-foreground, var(--jp-content-font-color1, black)));\n",
              "  --sklearn-color-background: var(--sg-background-color, var(--theme-background, var(--jp-layout-color0, white)));\n",
              "  --sklearn-color-border-box: var(--sg-text-color, var(--theme-code-foreground, var(--jp-content-font-color1, black)));\n",
              "  --sklearn-color-icon: #696969;\n",
              "\n",
              "  @media (prefers-color-scheme: dark) {\n",
              "    /* Redefinition of color scheme for dark theme */\n",
              "    --sklearn-color-text-on-default-background: var(--sg-text-color, var(--theme-code-foreground, var(--jp-content-font-color1, white)));\n",
              "    --sklearn-color-background: var(--sg-background-color, var(--theme-background, var(--jp-layout-color0, #111)));\n",
              "    --sklearn-color-border-box: var(--sg-text-color, var(--theme-code-foreground, var(--jp-content-font-color1, white)));\n",
              "    --sklearn-color-icon: #878787;\n",
              "  }\n",
              "}\n",
              "\n",
              "#sk-container-id-3 {\n",
              "  color: var(--sklearn-color-text);\n",
              "}\n",
              "\n",
              "#sk-container-id-3 pre {\n",
              "  padding: 0;\n",
              "}\n",
              "\n",
              "#sk-container-id-3 input.sk-hidden--visually {\n",
              "  border: 0;\n",
              "  clip: rect(1px 1px 1px 1px);\n",
              "  clip: rect(1px, 1px, 1px, 1px);\n",
              "  height: 1px;\n",
              "  margin: -1px;\n",
              "  overflow: hidden;\n",
              "  padding: 0;\n",
              "  position: absolute;\n",
              "  width: 1px;\n",
              "}\n",
              "\n",
              "#sk-container-id-3 div.sk-dashed-wrapped {\n",
              "  border: 1px dashed var(--sklearn-color-line);\n",
              "  margin: 0 0.4em 0.5em 0.4em;\n",
              "  box-sizing: border-box;\n",
              "  padding-bottom: 0.4em;\n",
              "  background-color: var(--sklearn-color-background);\n",
              "}\n",
              "\n",
              "#sk-container-id-3 div.sk-container {\n",
              "  /* jupyter's `normalize.less` sets `[hidden] { display: none; }`\n",
              "     but bootstrap.min.css set `[hidden] { display: none !important; }`\n",
              "     so we also need the `!important` here to be able to override the\n",
              "     default hidden behavior on the sphinx rendered scikit-learn.org.\n",
              "     See: https://github.com/scikit-learn/scikit-learn/issues/21755 */\n",
              "  display: inline-block !important;\n",
              "  position: relative;\n",
              "}\n",
              "\n",
              "#sk-container-id-3 div.sk-text-repr-fallback {\n",
              "  display: none;\n",
              "}\n",
              "\n",
              "div.sk-parallel-item,\n",
              "div.sk-serial,\n",
              "div.sk-item {\n",
              "  /* draw centered vertical line to link estimators */\n",
              "  background-image: linear-gradient(var(--sklearn-color-text-on-default-background), var(--sklearn-color-text-on-default-background));\n",
              "  background-size: 2px 100%;\n",
              "  background-repeat: no-repeat;\n",
              "  background-position: center center;\n",
              "}\n",
              "\n",
              "/* Parallel-specific style estimator block */\n",
              "\n",
              "#sk-container-id-3 div.sk-parallel-item::after {\n",
              "  content: \"\";\n",
              "  width: 100%;\n",
              "  border-bottom: 2px solid var(--sklearn-color-text-on-default-background);\n",
              "  flex-grow: 1;\n",
              "}\n",
              "\n",
              "#sk-container-id-3 div.sk-parallel {\n",
              "  display: flex;\n",
              "  align-items: stretch;\n",
              "  justify-content: center;\n",
              "  background-color: var(--sklearn-color-background);\n",
              "  position: relative;\n",
              "}\n",
              "\n",
              "#sk-container-id-3 div.sk-parallel-item {\n",
              "  display: flex;\n",
              "  flex-direction: column;\n",
              "}\n",
              "\n",
              "#sk-container-id-3 div.sk-parallel-item:first-child::after {\n",
              "  align-self: flex-end;\n",
              "  width: 50%;\n",
              "}\n",
              "\n",
              "#sk-container-id-3 div.sk-parallel-item:last-child::after {\n",
              "  align-self: flex-start;\n",
              "  width: 50%;\n",
              "}\n",
              "\n",
              "#sk-container-id-3 div.sk-parallel-item:only-child::after {\n",
              "  width: 0;\n",
              "}\n",
              "\n",
              "/* Serial-specific style estimator block */\n",
              "\n",
              "#sk-container-id-3 div.sk-serial {\n",
              "  display: flex;\n",
              "  flex-direction: column;\n",
              "  align-items: center;\n",
              "  background-color: var(--sklearn-color-background);\n",
              "  padding-right: 1em;\n",
              "  padding-left: 1em;\n",
              "}\n",
              "\n",
              "\n",
              "/* Toggleable style: style used for estimator/Pipeline/ColumnTransformer box that is\n",
              "clickable and can be expanded/collapsed.\n",
              "- Pipeline and ColumnTransformer use this feature and define the default style\n",
              "- Estimators will overwrite some part of the style using the `sk-estimator` class\n",
              "*/\n",
              "\n",
              "/* Pipeline and ColumnTransformer style (default) */\n",
              "\n",
              "#sk-container-id-3 div.sk-toggleable {\n",
              "  /* Default theme specific background. It is overwritten whether we have a\n",
              "  specific estimator or a Pipeline/ColumnTransformer */\n",
              "  background-color: var(--sklearn-color-background);\n",
              "}\n",
              "\n",
              "/* Toggleable label */\n",
              "#sk-container-id-3 label.sk-toggleable__label {\n",
              "  cursor: pointer;\n",
              "  display: block;\n",
              "  width: 100%;\n",
              "  margin-bottom: 0;\n",
              "  padding: 0.5em;\n",
              "  box-sizing: border-box;\n",
              "  text-align: center;\n",
              "}\n",
              "\n",
              "#sk-container-id-3 label.sk-toggleable__label-arrow:before {\n",
              "  /* Arrow on the left of the label */\n",
              "  content: \"▸\";\n",
              "  float: left;\n",
              "  margin-right: 0.25em;\n",
              "  color: var(--sklearn-color-icon);\n",
              "}\n",
              "\n",
              "#sk-container-id-3 label.sk-toggleable__label-arrow:hover:before {\n",
              "  color: var(--sklearn-color-text);\n",
              "}\n",
              "\n",
              "/* Toggleable content - dropdown */\n",
              "\n",
              "#sk-container-id-3 div.sk-toggleable__content {\n",
              "  max-height: 0;\n",
              "  max-width: 0;\n",
              "  overflow: hidden;\n",
              "  text-align: left;\n",
              "  /* unfitted */\n",
              "  background-color: var(--sklearn-color-unfitted-level-0);\n",
              "}\n",
              "\n",
              "#sk-container-id-3 div.sk-toggleable__content.fitted {\n",
              "  /* fitted */\n",
              "  background-color: var(--sklearn-color-fitted-level-0);\n",
              "}\n",
              "\n",
              "#sk-container-id-3 div.sk-toggleable__content pre {\n",
              "  margin: 0.2em;\n",
              "  border-radius: 0.25em;\n",
              "  color: var(--sklearn-color-text);\n",
              "  /* unfitted */\n",
              "  background-color: var(--sklearn-color-unfitted-level-0);\n",
              "}\n",
              "\n",
              "#sk-container-id-3 div.sk-toggleable__content.fitted pre {\n",
              "  /* unfitted */\n",
              "  background-color: var(--sklearn-color-fitted-level-0);\n",
              "}\n",
              "\n",
              "#sk-container-id-3 input.sk-toggleable__control:checked~div.sk-toggleable__content {\n",
              "  /* Expand drop-down */\n",
              "  max-height: 200px;\n",
              "  max-width: 100%;\n",
              "  overflow: auto;\n",
              "}\n",
              "\n",
              "#sk-container-id-3 input.sk-toggleable__control:checked~label.sk-toggleable__label-arrow:before {\n",
              "  content: \"▾\";\n",
              "}\n",
              "\n",
              "/* Pipeline/ColumnTransformer-specific style */\n",
              "\n",
              "#sk-container-id-3 div.sk-label input.sk-toggleable__control:checked~label.sk-toggleable__label {\n",
              "  color: var(--sklearn-color-text);\n",
              "  background-color: var(--sklearn-color-unfitted-level-2);\n",
              "}\n",
              "\n",
              "#sk-container-id-3 div.sk-label.fitted input.sk-toggleable__control:checked~label.sk-toggleable__label {\n",
              "  background-color: var(--sklearn-color-fitted-level-2);\n",
              "}\n",
              "\n",
              "/* Estimator-specific style */\n",
              "\n",
              "/* Colorize estimator box */\n",
              "#sk-container-id-3 div.sk-estimator input.sk-toggleable__control:checked~label.sk-toggleable__label {\n",
              "  /* unfitted */\n",
              "  background-color: var(--sklearn-color-unfitted-level-2);\n",
              "}\n",
              "\n",
              "#sk-container-id-3 div.sk-estimator.fitted input.sk-toggleable__control:checked~label.sk-toggleable__label {\n",
              "  /* fitted */\n",
              "  background-color: var(--sklearn-color-fitted-level-2);\n",
              "}\n",
              "\n",
              "#sk-container-id-3 div.sk-label label.sk-toggleable__label,\n",
              "#sk-container-id-3 div.sk-label label {\n",
              "  /* The background is the default theme color */\n",
              "  color: var(--sklearn-color-text-on-default-background);\n",
              "}\n",
              "\n",
              "/* On hover, darken the color of the background */\n",
              "#sk-container-id-3 div.sk-label:hover label.sk-toggleable__label {\n",
              "  color: var(--sklearn-color-text);\n",
              "  background-color: var(--sklearn-color-unfitted-level-2);\n",
              "}\n",
              "\n",
              "/* Label box, darken color on hover, fitted */\n",
              "#sk-container-id-3 div.sk-label.fitted:hover label.sk-toggleable__label.fitted {\n",
              "  color: var(--sklearn-color-text);\n",
              "  background-color: var(--sklearn-color-fitted-level-2);\n",
              "}\n",
              "\n",
              "/* Estimator label */\n",
              "\n",
              "#sk-container-id-3 div.sk-label label {\n",
              "  font-family: monospace;\n",
              "  font-weight: bold;\n",
              "  display: inline-block;\n",
              "  line-height: 1.2em;\n",
              "}\n",
              "\n",
              "#sk-container-id-3 div.sk-label-container {\n",
              "  text-align: center;\n",
              "}\n",
              "\n",
              "/* Estimator-specific */\n",
              "#sk-container-id-3 div.sk-estimator {\n",
              "  font-family: monospace;\n",
              "  border: 1px dotted var(--sklearn-color-border-box);\n",
              "  border-radius: 0.25em;\n",
              "  box-sizing: border-box;\n",
              "  margin-bottom: 0.5em;\n",
              "  /* unfitted */\n",
              "  background-color: var(--sklearn-color-unfitted-level-0);\n",
              "}\n",
              "\n",
              "#sk-container-id-3 div.sk-estimator.fitted {\n",
              "  /* fitted */\n",
              "  background-color: var(--sklearn-color-fitted-level-0);\n",
              "}\n",
              "\n",
              "/* on hover */\n",
              "#sk-container-id-3 div.sk-estimator:hover {\n",
              "  /* unfitted */\n",
              "  background-color: var(--sklearn-color-unfitted-level-2);\n",
              "}\n",
              "\n",
              "#sk-container-id-3 div.sk-estimator.fitted:hover {\n",
              "  /* fitted */\n",
              "  background-color: var(--sklearn-color-fitted-level-2);\n",
              "}\n",
              "\n",
              "/* Specification for estimator info (e.g. \"i\" and \"?\") */\n",
              "\n",
              "/* Common style for \"i\" and \"?\" */\n",
              "\n",
              ".sk-estimator-doc-link,\n",
              "a:link.sk-estimator-doc-link,\n",
              "a:visited.sk-estimator-doc-link {\n",
              "  float: right;\n",
              "  font-size: smaller;\n",
              "  line-height: 1em;\n",
              "  font-family: monospace;\n",
              "  background-color: var(--sklearn-color-background);\n",
              "  border-radius: 1em;\n",
              "  height: 1em;\n",
              "  width: 1em;\n",
              "  text-decoration: none !important;\n",
              "  margin-left: 1ex;\n",
              "  /* unfitted */\n",
              "  border: var(--sklearn-color-unfitted-level-1) 1pt solid;\n",
              "  color: var(--sklearn-color-unfitted-level-1);\n",
              "}\n",
              "\n",
              ".sk-estimator-doc-link.fitted,\n",
              "a:link.sk-estimator-doc-link.fitted,\n",
              "a:visited.sk-estimator-doc-link.fitted {\n",
              "  /* fitted */\n",
              "  border: var(--sklearn-color-fitted-level-1) 1pt solid;\n",
              "  color: var(--sklearn-color-fitted-level-1);\n",
              "}\n",
              "\n",
              "/* On hover */\n",
              "div.sk-estimator:hover .sk-estimator-doc-link:hover,\n",
              ".sk-estimator-doc-link:hover,\n",
              "div.sk-label-container:hover .sk-estimator-doc-link:hover,\n",
              ".sk-estimator-doc-link:hover {\n",
              "  /* unfitted */\n",
              "  background-color: var(--sklearn-color-unfitted-level-3);\n",
              "  color: var(--sklearn-color-background);\n",
              "  text-decoration: none;\n",
              "}\n",
              "\n",
              "div.sk-estimator.fitted:hover .sk-estimator-doc-link.fitted:hover,\n",
              ".sk-estimator-doc-link.fitted:hover,\n",
              "div.sk-label-container:hover .sk-estimator-doc-link.fitted:hover,\n",
              ".sk-estimator-doc-link.fitted:hover {\n",
              "  /* fitted */\n",
              "  background-color: var(--sklearn-color-fitted-level-3);\n",
              "  color: var(--sklearn-color-background);\n",
              "  text-decoration: none;\n",
              "}\n",
              "\n",
              "/* Span, style for the box shown on hovering the info icon */\n",
              ".sk-estimator-doc-link span {\n",
              "  display: none;\n",
              "  z-index: 9999;\n",
              "  position: relative;\n",
              "  font-weight: normal;\n",
              "  right: .2ex;\n",
              "  padding: .5ex;\n",
              "  margin: .5ex;\n",
              "  width: min-content;\n",
              "  min-width: 20ex;\n",
              "  max-width: 50ex;\n",
              "  color: var(--sklearn-color-text);\n",
              "  box-shadow: 2pt 2pt 4pt #999;\n",
              "  /* unfitted */\n",
              "  background: var(--sklearn-color-unfitted-level-0);\n",
              "  border: .5pt solid var(--sklearn-color-unfitted-level-3);\n",
              "}\n",
              "\n",
              ".sk-estimator-doc-link.fitted span {\n",
              "  /* fitted */\n",
              "  background: var(--sklearn-color-fitted-level-0);\n",
              "  border: var(--sklearn-color-fitted-level-3);\n",
              "}\n",
              "\n",
              ".sk-estimator-doc-link:hover span {\n",
              "  display: block;\n",
              "}\n",
              "\n",
              "/* \"?\"-specific style due to the `<a>` HTML tag */\n",
              "\n",
              "#sk-container-id-3 a.estimator_doc_link {\n",
              "  float: right;\n",
              "  font-size: 1rem;\n",
              "  line-height: 1em;\n",
              "  font-family: monospace;\n",
              "  background-color: var(--sklearn-color-background);\n",
              "  border-radius: 1rem;\n",
              "  height: 1rem;\n",
              "  width: 1rem;\n",
              "  text-decoration: none;\n",
              "  /* unfitted */\n",
              "  color: var(--sklearn-color-unfitted-level-1);\n",
              "  border: var(--sklearn-color-unfitted-level-1) 1pt solid;\n",
              "}\n",
              "\n",
              "#sk-container-id-3 a.estimator_doc_link.fitted {\n",
              "  /* fitted */\n",
              "  border: var(--sklearn-color-fitted-level-1) 1pt solid;\n",
              "  color: var(--sklearn-color-fitted-level-1);\n",
              "}\n",
              "\n",
              "/* On hover */\n",
              "#sk-container-id-3 a.estimator_doc_link:hover {\n",
              "  /* unfitted */\n",
              "  background-color: var(--sklearn-color-unfitted-level-3);\n",
              "  color: var(--sklearn-color-background);\n",
              "  text-decoration: none;\n",
              "}\n",
              "\n",
              "#sk-container-id-3 a.estimator_doc_link.fitted:hover {\n",
              "  /* fitted */\n",
              "  background-color: var(--sklearn-color-fitted-level-3);\n",
              "}\n",
              "</style><div id=\"sk-container-id-3\" class=\"sk-top-container\"><div class=\"sk-text-repr-fallback\"><pre>LinearRegression()</pre><b>In a Jupyter environment, please rerun this cell to show the HTML representation or trust the notebook. <br />On GitHub, the HTML representation is unable to render, please try loading this page with nbviewer.org.</b></div><div class=\"sk-container\" hidden><div class=\"sk-item\"><div class=\"sk-estimator fitted sk-toggleable\"><input class=\"sk-toggleable__control sk-hidden--visually\" id=\"sk-estimator-id-3\" type=\"checkbox\" checked><label for=\"sk-estimator-id-3\" class=\"sk-toggleable__label fitted sk-toggleable__label-arrow fitted\">&nbsp;&nbsp;LinearRegression<a class=\"sk-estimator-doc-link fitted\" rel=\"noreferrer\" target=\"_blank\" href=\"https://scikit-learn.org/1.4/modules/generated/sklearn.linear_model.LinearRegression.html\">?<span>Documentation for LinearRegression</span></a><span class=\"sk-estimator-doc-link fitted\">i<span>Fitted</span></span></label><div class=\"sk-toggleable__content fitted\"><pre>LinearRegression()</pre></div> </div></div></div></div>"
            ],
            "text/plain": [
              "LinearRegression()"
            ]
          },
          "execution_count": 121,
          "metadata": {},
          "output_type": "execute_result"
        }
      ],
      "source": [
        "model.fit(X_train, y_train)"
      ]
    },
    {
      "cell_type": "code",
      "execution_count": 122,
      "id": "e5c56a8f",
      "metadata": {},
      "outputs": [],
      "source": [
        "y_pred = model.predict(X_test)"
      ]
    },
    {
      "cell_type": "code",
      "execution_count": 123,
      "id": "31c23921",
      "metadata": {},
      "outputs": [
        {
          "name": "stdout",
          "output_type": "stream",
          "text": [
            "MAE = 13.566248786624111\n"
          ]
        }
      ],
      "source": [
        "mae = mean_absolute_error(y_test, y_pred)\n",
        "print(\"MAE =\",mae)"
      ]
    },
    {
      "cell_type": "markdown",
      "id": "ea2d6b6c",
      "metadata": {},
      "source": [
        "3, How many units are expected to be sold during the week 39 of 2011? Store as an integer variable called quantity_sold_w39."
      ]
    },
    {
      "cell_type": "code",
      "execution_count": 124,
      "id": "df98a79a",
      "metadata": {},
      "outputs": [],
      "source": [
        "filtered_data = pd_daily_test_data[(pd_daily_test_data['InvoiceDate'].dt.year == 2011) &\n",
        "                                   (pd_daily_test_data['InvoiceDate'].dt.isocalendar().week == 39)]"
      ]
    },
    {
      "cell_type": "code",
      "execution_count": 125,
      "id": "1685f9c1",
      "metadata": {},
      "outputs": [
        {
          "name": "stdout",
          "output_type": "stream",
          "text": [
            "Tổng số lượng đơn vị bán được trong các tuần 39 = 0\n"
          ]
        }
      ],
      "source": [
        "# Tổng số lượng bán được\n",
        "quantity_sold_w39 = filtered_data['Quantity'].sum()\n",
        "# đảm bảo kết quả là số nguyên\n",
        "quantity_sold_w39 = int(quantity_sold_w39)\n",
        "print(f\"Tổng số lượng đơn vị bán được trong các tuần 39 =\",quantity_sold_w39)"
      ]
    },
    {
      "cell_type": "code",
      "execution_count": 126,
      "id": "84992bad",
      "metadata": {},
      "outputs": [
        {
          "name": "stdout",
          "output_type": "stream",
          "text": [
            "               Country StockCode InvoiceDate  Quantity  Country_encoded  \\\n",
            "252904          Cyprus    15056N  2011-09-19        33                7   \n",
            "252905  United Kingdom     23293  2011-09-19         8               34   \n",
            "252906  United Kingdom     23546  2011-09-19        25               34   \n",
            "252907  United Kingdom     23549  2011-09-19        25               34   \n",
            "252908  United Kingdom     23231  2011-09-19        25               34   \n",
            "\n",
            "        StockCode_encoded  \n",
            "252904                 19  \n",
            "252905               2105  \n",
            "252906               2260  \n",
            "252907               2263  \n",
            "252908               2055  \n",
            "Tổng số lượng đơn vị bán được trong các tuần gần kề: 163656\n"
          ]
        }
      ],
      "source": [
        "# Lọc dữ liệu cho tuần gần kề để kiểm tra\n",
        "weeks_to_check = [38, 40]  \n",
        "filtered_data_nearby = pd_daily_test_data[(pd_daily_test_data['InvoiceDate'].dt.year == 2011) &\n",
        "                                          (pd_daily_test_data['InvoiceDate'].dt.isocalendar().week.isin(weeks_to_check))]\n",
        "\n",
        "print(filtered_data_nearby.head())\n",
        "print(f\"Tổng số lượng đơn vị bán được trong các tuần gần kề: {filtered_data_nearby['Quantity'].sum()}\")\n"
      ]
    },
    {
      "cell_type": "code",
      "execution_count": null,
      "id": "ff2b75db",
      "metadata": {},
      "outputs": [],
      "source": []
    }
  ],
  "metadata": {
    "colab": {
      "provenance": []
    },
    "kernelspec": {
      "display_name": "Python 3 (ipykernel)",
      "language": "python",
      "name": "python3"
    },
    "language_info": {
      "codemirror_mode": {
        "name": "ipython",
        "version": 3
      },
      "file_extension": ".py",
      "mimetype": "text/x-python",
      "name": "python",
      "nbconvert_exporter": "python",
      "pygments_lexer": "ipython3",
      "version": "3.12.2"
    }
  },
  "nbformat": 4,
  "nbformat_minor": 5
}
